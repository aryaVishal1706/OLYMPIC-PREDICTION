{
 "cells": [
  {
   "cell_type": "markdown",
   "metadata": {
    "id": "9paTHt4VFPlA"
   },
   "source": [
    "### 1 Loading contents in pandas data frame\n",
    "###    Let's See The orignal Content"
   ]
  },
  {
   "cell_type": "code",
   "execution_count": 2,
   "metadata": {
    "colab": {
     "base_uri": "https://localhost:8080/",
     "height": 765
    },
    "id": "OVyowYwtEeIC",
    "outputId": "a29f0330-bdff-4d2a-ec19-22b9af65c15a"
   },
   "outputs": [
    {
     "name": "stdout",
     "output_type": "stream",
     "text": [
      "Original Dataframe :  \n"
     ]
    }
   ],
   "source": [
    "import pandas as pd\n",
    "import numpy as np\n",
    "import matplotlib.pyplot as plt\n",
    "import seaborn as sns\n",
    "\n",
    "df=pd.read_csv(\"./medals.csv\")\n",
    "print(\"Original Dataframe :  \")\n",
    "# df"
   ]
  },
  {
   "cell_type": "markdown",
   "metadata": {
    "id": "g_kVzwRuSf_O"
   },
   "source": [
    "### 2 Data Cleaning"
   ]
  },
  {
   "cell_type": "code",
   "execution_count": 3,
   "metadata": {
    "colab": {
     "base_uri": "https://localhost:8080/",
     "height": 728
    },
    "id": "CXDxmL1lSYgG",
    "outputId": "5704db3f-5635-4a1f-f954-d24235824eb7"
   },
   "outputs": [
    {
     "name": "stderr",
     "output_type": "stream",
     "text": [
      "C:\\Users\\vishal\\AppData\\Local\\Temp\\ipykernel_12884\\2841859118.py:14: SettingWithCopyWarning: \n",
      "A value is trying to be set on a copy of a slice from a DataFrame\n",
      "\n",
      "See the caveats in the documentation: https://pandas.pydata.org/pandas-docs/stable/user_guide/indexing.html#returning-a-view-versus-a-copy\n",
      "  df['athlete_full_name'].fillna('',inplace=True)\n"
     ]
    },
    {
     "data": {
      "text/html": [
       "<div>\n",
       "<style scoped>\n",
       "    .dataframe tbody tr th:only-of-type {\n",
       "        vertical-align: middle;\n",
       "    }\n",
       "\n",
       "    .dataframe tbody tr th {\n",
       "        vertical-align: top;\n",
       "    }\n",
       "\n",
       "    .dataframe thead th {\n",
       "        text-align: right;\n",
       "    }\n",
       "</style>\n",
       "<table border=\"1\" class=\"dataframe\">\n",
       "  <thead>\n",
       "    <tr style=\"text-align: right;\">\n",
       "      <th></th>\n",
       "      <th>discipline_title</th>\n",
       "      <th>slug_game</th>\n",
       "      <th>event_title</th>\n",
       "      <th>event_gender</th>\n",
       "      <th>medal_type</th>\n",
       "      <th>participant_type</th>\n",
       "      <th>participant_title</th>\n",
       "      <th>athlete_full_name</th>\n",
       "      <th>country_name</th>\n",
       "    </tr>\n",
       "  </thead>\n",
       "  <tbody>\n",
       "    <tr>\n",
       "      <th>0</th>\n",
       "      <td>Curling</td>\n",
       "      <td>beijing-2022</td>\n",
       "      <td>Mixed Doubles</td>\n",
       "      <td>Mixed</td>\n",
       "      <td>GOLD</td>\n",
       "      <td>GameTeam</td>\n",
       "      <td>Italy</td>\n",
       "      <td>Stefania CONSTANTINI, Amos MOSANER, nan, nan, ...</td>\n",
       "      <td>Italy</td>\n",
       "    </tr>\n",
       "    <tr>\n",
       "      <th>2</th>\n",
       "      <td>Curling</td>\n",
       "      <td>beijing-2022</td>\n",
       "      <td>Mixed Doubles</td>\n",
       "      <td>Mixed</td>\n",
       "      <td>SILVER</td>\n",
       "      <td>GameTeam</td>\n",
       "      <td>Norway</td>\n",
       "      <td>Kristin SKASLIEN, Magnus NEDREGOTTEN, nan, nan...</td>\n",
       "      <td>Norway</td>\n",
       "    </tr>\n",
       "    <tr>\n",
       "      <th>4</th>\n",
       "      <td>Curling</td>\n",
       "      <td>beijing-2022</td>\n",
       "      <td>Mixed Doubles</td>\n",
       "      <td>Mixed</td>\n",
       "      <td>BRONZE</td>\n",
       "      <td>GameTeam</td>\n",
       "      <td>Sweden</td>\n",
       "      <td>Almida DE VAL, Oskar ERIKSSON, nan, nan, nan, ...</td>\n",
       "      <td>Sweden</td>\n",
       "    </tr>\n",
       "    <tr>\n",
       "      <th>12</th>\n",
       "      <td>Freestyle Skiing</td>\n",
       "      <td>beijing-2022</td>\n",
       "      <td>Men's Moguls</td>\n",
       "      <td>Men</td>\n",
       "      <td>SILVER</td>\n",
       "      <td>Athlete</td>\n",
       "      <td>NaN</td>\n",
       "      <td>Mikael KINGSBURY, David WISE, Colby STEVENSON,...</td>\n",
       "      <td>Canada</td>\n",
       "    </tr>\n",
       "    <tr>\n",
       "      <th>13</th>\n",
       "      <td>Freestyle Skiing</td>\n",
       "      <td>beijing-2022</td>\n",
       "      <td>Men's Moguls</td>\n",
       "      <td>Men</td>\n",
       "      <td>GOLD</td>\n",
       "      <td>Athlete</td>\n",
       "      <td>NaN</td>\n",
       "      <td>Walter WALLBERG, Nico PORTEOUS, Birk RUUD, Rya...</td>\n",
       "      <td>Sweden</td>\n",
       "    </tr>\n",
       "    <tr>\n",
       "      <th>...</th>\n",
       "      <td>...</td>\n",
       "      <td>...</td>\n",
       "      <td>...</td>\n",
       "      <td>...</td>\n",
       "      <td>...</td>\n",
       "      <td>...</td>\n",
       "      <td>...</td>\n",
       "      <td>...</td>\n",
       "      <td>...</td>\n",
       "    </tr>\n",
       "    <tr>\n",
       "      <th>21689</th>\n",
       "      <td>Wrestling</td>\n",
       "      <td>athens-1896</td>\n",
       "      <td>Unlimited Class, Greco-Roman Men</td>\n",
       "      <td>Men</td>\n",
       "      <td>SILVER</td>\n",
       "      <td>Athlete</td>\n",
       "      <td>NaN</td>\n",
       "      <td>Ravi Kumar Dahiya, Qianyu PANG, Artur ALEKSANY...</td>\n",
       "      <td>Greece</td>\n",
       "    </tr>\n",
       "    <tr>\n",
       "      <th>21690</th>\n",
       "      <td>Wrestling</td>\n",
       "      <td>athens-1896</td>\n",
       "      <td>Unlimited Class, Greco-Roman Men</td>\n",
       "      <td>Men</td>\n",
       "      <td>BRONZE</td>\n",
       "      <td>Athlete</td>\n",
       "      <td>NaN</td>\n",
       "      <td>Thomas Patrick GILMAN, Nurislam SANAYEV, Vanes...</td>\n",
       "      <td>Greece</td>\n",
       "    </tr>\n",
       "    <tr>\n",
       "      <th>21691</th>\n",
       "      <td>Weightlifting</td>\n",
       "      <td>athens-1896</td>\n",
       "      <td>heavyweight - one hand lift men</td>\n",
       "      <td>Men</td>\n",
       "      <td>GOLD</td>\n",
       "      <td>Athlete</td>\n",
       "      <td>NaN</td>\n",
       "      <td>Fabin LI, Hidilyn DIAZ, Lijun CHEN, Xiaojun LY...</td>\n",
       "      <td>Great Britain</td>\n",
       "    </tr>\n",
       "    <tr>\n",
       "      <th>21692</th>\n",
       "      <td>Weightlifting</td>\n",
       "      <td>athens-1896</td>\n",
       "      <td>heavyweight - one hand lift men</td>\n",
       "      <td>Men</td>\n",
       "      <td>SILVER</td>\n",
       "      <td>Athlete</td>\n",
       "      <td>NaN</td>\n",
       "      <td>Eko Yuli IRAWAN, Qiuyun LIAO, Luis Javier MOSQ...</td>\n",
       "      <td>Denmark</td>\n",
       "    </tr>\n",
       "    <tr>\n",
       "      <th>21693</th>\n",
       "      <td>Weightlifting</td>\n",
       "      <td>athens-1896</td>\n",
       "      <td>heavyweight - one hand lift men</td>\n",
       "      <td>Men</td>\n",
       "      <td>BRONZE</td>\n",
       "      <td>Athlete</td>\n",
       "      <td>NaN</td>\n",
       "      <td>Igor SON, Zulfiya CHINSHANLO, Mirko ZANNI, Ant...</td>\n",
       "      <td>Greece</td>\n",
       "    </tr>\n",
       "  </tbody>\n",
       "</table>\n",
       "<p>3137 rows × 9 columns</p>\n",
       "</div>"
      ],
      "text/plain": [
       "       discipline_title     slug_game                       event_title   \n",
       "0               Curling  beijing-2022                     Mixed Doubles  \\\n",
       "2               Curling  beijing-2022                     Mixed Doubles   \n",
       "4               Curling  beijing-2022                     Mixed Doubles   \n",
       "12     Freestyle Skiing  beijing-2022                      Men's Moguls   \n",
       "13     Freestyle Skiing  beijing-2022                      Men's Moguls   \n",
       "...                 ...           ...                               ...   \n",
       "21689         Wrestling   athens-1896  Unlimited Class, Greco-Roman Men   \n",
       "21690         Wrestling   athens-1896  Unlimited Class, Greco-Roman Men   \n",
       "21691     Weightlifting   athens-1896   heavyweight - one hand lift men   \n",
       "21692     Weightlifting   athens-1896   heavyweight - one hand lift men   \n",
       "21693     Weightlifting   athens-1896   heavyweight - one hand lift men   \n",
       "\n",
       "      event_gender medal_type participant_type participant_title   \n",
       "0            Mixed       GOLD         GameTeam             Italy  \\\n",
       "2            Mixed     SILVER         GameTeam            Norway   \n",
       "4            Mixed     BRONZE         GameTeam            Sweden   \n",
       "12             Men     SILVER          Athlete               NaN   \n",
       "13             Men       GOLD          Athlete               NaN   \n",
       "...            ...        ...              ...               ...   \n",
       "21689          Men     SILVER          Athlete               NaN   \n",
       "21690          Men     BRONZE          Athlete               NaN   \n",
       "21691          Men       GOLD          Athlete               NaN   \n",
       "21692          Men     SILVER          Athlete               NaN   \n",
       "21693          Men     BRONZE          Athlete               NaN   \n",
       "\n",
       "                                       athlete_full_name   country_name  \n",
       "0      Stefania CONSTANTINI, Amos MOSANER, nan, nan, ...          Italy  \n",
       "2      Kristin SKASLIEN, Magnus NEDREGOTTEN, nan, nan...         Norway  \n",
       "4      Almida DE VAL, Oskar ERIKSSON, nan, nan, nan, ...         Sweden  \n",
       "12     Mikael KINGSBURY, David WISE, Colby STEVENSON,...         Canada  \n",
       "13     Walter WALLBERG, Nico PORTEOUS, Birk RUUD, Rya...         Sweden  \n",
       "...                                                  ...            ...  \n",
       "21689  Ravi Kumar Dahiya, Qianyu PANG, Artur ALEKSANY...         Greece  \n",
       "21690  Thomas Patrick GILMAN, Nurislam SANAYEV, Vanes...         Greece  \n",
       "21691  Fabin LI, Hidilyn DIAZ, Lijun CHEN, Xiaojun LY...  Great Britain  \n",
       "21692  Eko Yuli IRAWAN, Qiuyun LIAO, Luis Javier MOSQ...        Denmark  \n",
       "21693  Igor SON, Zulfiya CHINSHANLO, Mirko ZANNI, Ant...         Greece  \n",
       "\n",
       "[3137 rows x 9 columns]"
      ]
     },
     "execution_count": 3,
     "metadata": {},
     "output_type": "execute_result"
    }
   ],
   "source": [
    "df1=df\n",
    "\n",
    "del df['country_code']\n",
    "del df['country_3_letter_code']\n",
    "All_Athlete_URL=set()\n",
    "\n",
    "for x in df['athlete_url']:\n",
    "  All_Athlete_URL.add(x)\n",
    "\n",
    "del df['athlete_url']\n",
    "\n",
    "df['athlete_full_name']=df.groupby(['discipline_title','medal_type'])['athlete_full_name'].transform(lambda x: ', '.join(str(i) for i in x))\n",
    "df=df.drop_duplicates(subset=['discipline_title','slug_game','medal_type'])\n",
    "df['athlete_full_name'].fillna('',inplace=True)\n",
    "\n",
    "# df"
   ]
  },
  {
   "cell_type": "markdown",
   "metadata": {
    "id": "zXjk4PewbZ-9"
   },
   "source": [
    "### 3 Finding Number of Participants in All Sports\n",
    "\n"
   ]
  },
  {
   "cell_type": "code",
   "execution_count": 6,
   "metadata": {
    "colab": {
     "base_uri": "https://localhost:8080/",
     "height": 1000
    },
    "id": "B_Nt__0XFn7Q",
    "outputId": "623f2746-73fe-4c78-d349-f44a7545d7e0"
   },
   "outputs": [],
   "source": [
    "def Get_Count(x):\n",
    "  d=dict()\n",
    "  for i in x:\n",
    "    d[i]=d.get(i,0)+1\n",
    "  return d\n",
    "\n",
    "All_Sports=Get_Count(df['discipline_title'])\n",
    "\n",
    "Sports_Types=list(All_Sports.keys())\n",
    "Sports_Types_Count=list(All_Sports.values())\n",
    "\n",
    "# for i in range(len(All_Sports)):\n",
    "#   print(Sports_Types[i],\"\\t\",Sports_Types_Count[i])\n",
    "\n",
    "# plt.scatter(Sports_Types,Sports_Types_Count)\n",
    "# plt.bar(Sports_Types,Sports_Types_Count)"
   ]
  },
  {
   "cell_type": "markdown",
   "metadata": {
    "id": "rrLe8hHS1wcW"
   },
   "source": [
    "### 4 Knowing the Names of all participants participated till now"
   ]
  },
  {
   "cell_type": "code",
   "execution_count": 8,
   "metadata": {
    "colab": {
     "base_uri": "https://localhost:8080/"
    },
    "id": "c8YlUITe2B45",
    "outputId": "c6c0e102-bb7d-489c-b041-fd9f99528922"
   },
   "outputs": [],
   "source": [
    "All_Participants=Get_Count(df['athlete_full_name'])\n",
    "\n",
    "l1=list(All_Participants.keys())\n",
    "l2=list(All_Participants.values())\n",
    "\n",
    "print(\"Number Of Times a Participant has Participated : \")\n",
    "for i in range(len(l1)):\n",
    "  print(l1[i],\"\\t\",l2[i])\n",
    "\n",
    "plt.plot(All_Participants.keys(),All_Participants.values())"
   ]
  },
  {
   "cell_type": "markdown",
   "metadata": {
    "id": "UwpnGQQ9SgX_"
   },
   "source": [
    "### 5 Finding Number of Countries Participated"
   ]
  },
  {
   "cell_type": "code",
   "execution_count": 10,
   "metadata": {
    "colab": {
     "base_uri": "https://localhost:8080/",
     "height": 1000
    },
    "id": "VH9Ggik0Slkg",
    "outputId": "d0da38a2-56ec-4dc0-a041-5a018a244a12"
   },
   "outputs": [
    {
     "name": "stdout",
     "output_type": "stream",
     "text": [
      "All Countries Participated Till Now and its frequency is : \n"
     ]
    }
   ],
   "source": [
    "# All_Countries=Get_Count(df['country_name'])\n",
    "\n",
    "# print(\"All Countries Participated Till Now and its frequency is : \")\n",
    "# c=list(All_Countries.keys())\n",
    "# f=list(All_Countries.values())\n",
    "\n",
    "# for i in range(len(c)):\n",
    "#   print(c[i],\"\\t\",f[i])\n",
    "\n",
    "# plt.scatter(c,f)\n",
    "# plt.bar(c,f)"
   ]
  },
  {
   "cell_type": "markdown",
   "metadata": {
    "id": "1zOtXBRpZXGl"
   },
   "source": [
    "### 6 Using Machine Learning **Techniques**"
   ]
  },
  {
   "cell_type": "markdown",
   "metadata": {
    "id": "jdwWZAn6edti"
   },
   "source": [
    "### USING SUPPORT VECTOR MACHINE (SVM)"
   ]
  },
  {
   "cell_type": "code",
   "execution_count": 17,
   "metadata": {
    "colab": {
     "base_uri": "https://localhost:8080/"
    },
    "id": "QvQUdXenehO6",
    "outputId": "dd87b6be-2536-4cf8-9ede-96d1b572de58"
   },
   "outputs": [],
   "source": [
    "import pandas as pd\n",
    "from sklearn.model_selection import train_test_split\n",
    "from sklearn.svm import SVC\n",
    "from sklearn.metrics import classification_report\n",
    "from sklearn.preprocessing import LabelEncoder, StandardScaler\n",
    "\n",
    "# Load the medals dataset\n",
    "#df=pd.read_csv('medals.csv')\n",
    "\n",
    "# Select relevant features and target variable\n",
    "features=['discipline_title', 'event_gender', 'participant_type']\n",
    "target='medal_type'\n",
    "\n",
    "# Convert categorical variables to numerical using LabelEncoder\n",
    "encoder=LabelEncoder()\n",
    "df_encoded=df[features].apply(encoder.fit_transform)\n",
    "\n",
    "# Split the dataset into training and testing sets\n",
    "X_train,X_test,y_train,y_test=train_test_split(df_encoded,df[target],test_size=0.2,random_state=42)\n",
    "\n",
    "# Scale the features\n",
    "scaler=StandardScaler()\n",
    "X_train_scaled=scaler.fit_transform(X_train)\n",
    "X_test_scaled=scaler.transform(X_test)\n",
    "\n",
    "# Initialize and train the SVM classifier\n",
    "clf=SVC(kernel='rbf',random_state=42)  # Customize the kernel as needed\n",
    "clf.fit(X_train_scaled,y_train)\n",
    "\n",
    "# Predict on the test set\n",
    "y_pred=clf.predict(X_test_scaled)\n",
    "\n",
    "# Evaluate the model\n",
    "# print(classification_report(y_test,y_pred))"
   ]
  },
  {
   "cell_type": "markdown",
   "metadata": {
    "id": "f74peGLydzjS"
   },
   "source": [
    "### USING RANDOM FOREST CLASSIFIER"
   ]
  },
  {
   "cell_type": "code",
   "execution_count": 20,
   "metadata": {
    "colab": {
     "base_uri": "https://localhost:8080/"
    },
    "id": "EUQc4VMUZbO3",
    "outputId": "b9cc4947-107c-4f02-fd39-0dcce75c700f"
   },
   "outputs": [],
   "source": [
    "import pandas as pd\n",
    "from sklearn.model_selection import train_test_split\n",
    "from sklearn.ensemble import RandomForestClassifier\n",
    "from sklearn.metrics import classification_report\n",
    "\n",
    "# Load the medals dataset\n",
    "#df=pd.read_csv('medals.csv')\n",
    "\n",
    "# Select relevant features and target variable\n",
    "features=['discipline_title','event_gender','participant_type']\n",
    "target='medal_type'\n",
    "\n",
    "# Convert categorical variables to numerical using one-hot encoding\n",
    "df_encoded=pd.get_dummies(df[features],drop_first=True)\n",
    "\n",
    "# Split the dataset into training and testing sets\n",
    "X_train,X_test,y_train,y_test=train_test_split(df_encoded,df[target],test_size=0.2,random_state=42)\n",
    "\n",
    "# Train the Random Forest Classifier\n",
    "clf=RandomForestClassifier(random_state=42)\n",
    "clf.fit(X_train,y_train)\n",
    "\n",
    "# Predict on the test set\n",
    "y_pred=clf.predict(X_test)\n",
    "\n",
    "# Evaluate the model\n",
    "# print(classification_report(y_test,y_pred))"
   ]
  },
  {
   "cell_type": "markdown",
   "metadata": {
    "id": "KI3XV0bBe32j"
   },
   "source": [
    "### USING XGBOOST LIBRARY"
   ]
  },
  {
   "cell_type": "code",
   "execution_count": 26,
   "metadata": {
    "colab": {
     "base_uri": "https://localhost:8080/"
    },
    "id": "5foa7VyefIGq",
    "outputId": "56594e9b-8404-49d0-fbe8-6a1a3974a139"
   },
   "outputs": [
    {
     "name": "stdout",
     "output_type": "stream",
     "text": [
      "Requirement already satisfied: xgboost in c:\\users\\vishal\\appdata\\local\\programs\\python\\python310\\lib\\site-packages (1.7.6)\n",
      "Requirement already satisfied: numpy in c:\\users\\vishal\\appdata\\local\\programs\\python\\python310\\lib\\site-packages (from xgboost) (1.24.2)\n",
      "Requirement already satisfied: scipy in c:\\users\\vishal\\appdata\\local\\programs\\python\\python310\\lib\\site-packages (from xgboost) (1.10.1)\n"
     ]
    },
    {
     "name": "stderr",
     "output_type": "stream",
     "text": [
      "\n",
      "[notice] A new release of pip is available: 23.1.2 -> 23.2\n",
      "[notice] To update, run: python.exe -m pip install --upgrade pip\n",
      "C:\\Users\\vishal\\AppData\\Local\\Temp\\ipykernel_12884\\2989205783.py:17: SettingWithCopyWarning: \n",
      "A value is trying to be set on a copy of a slice from a DataFrame.\n",
      "Try using .loc[row_indexer,col_indexer] = value instead\n",
      "\n",
      "See the caveats in the documentation: https://pandas.pydata.org/pandas-docs/stable/user_guide/indexing.html#returning-a-view-versus-a-copy\n",
      "  df[target]=encoder.fit_transform(df[target])\n"
     ]
    }
   ],
   "source": [
    "import pandas as pd\n",
    "from sklearn.model_selection import train_test_split\n",
    "import xgboost as xgb\n",
    "from sklearn.metrics import classification_report\n",
    "from sklearn.preprocessing import LabelEncoder\n",
    "\n",
    "# Load the medals dataset\n",
    "# df=pd.read_csv('medals.csv')\n",
    "\n",
    "# Select relevant features and target variable\n",
    "features=['discipline_title','event_gender','participant_type']\n",
    "target='medal_type'\n",
    "\n",
    "# Encode the target variable to numerical values\n",
    "encoder=LabelEncoder()\n",
    "df[target]=encoder.fit_transform(df[target])\n",
    "\n",
    "# Convert categorical variables to numerical using LabelEncoder\n",
    "df_encoded=df[features].apply(encoder.fit_transform)\n",
    "\n",
    "# Split the dataset into training and testing sets\n",
    "X_train,X_test,y_train,y_test=train_test_split(df_encoded,df[target],test_size=0.2,random_state=42)\n",
    "\n",
    "# Initialize and train the XGBoost classifier\n",
    "clf=xgb.XGBClassifier(random_state=42)  # Customize parameters as needed\n",
    "clf.fit(X_train,y_train)\n",
    "\n",
    "# Predict on the test set\n",
    "y_pred=clf.predict(X_test)\n",
    "\n",
    "# Evaluate the model\n",
    "# print(classification_report(y_test,y_pred))"
   ]
  },
  {
   "cell_type": "markdown",
   "metadata": {
    "id": "8-nkpr7sd68z"
   },
   "source": [
    "### USING NUERAL NETWORKS MODEL"
   ]
  },
  {
   "cell_type": "code",
   "execution_count": 27,
   "metadata": {
    "colab": {
     "base_uri": "https://localhost:8080/"
    },
    "id": "xvDqLOkadXgw",
    "outputId": "2cc7fc4b-0f26-4369-a250-3b503b1c979e"
   },
   "outputs": [
    {
     "name": "stderr",
     "output_type": "stream",
     "text": [
      "C:\\Users\\vishal\\AppData\\Local\\Programs\\Python\\Python310\\lib\\site-packages\\sklearn\\preprocessing\\_encoders.py:868: FutureWarning: `sparse` was renamed to `sparse_output` in version 1.2 and will be removed in 1.4. `sparse_output` is ignored unless you leave `sparse` to its default value.\n",
      "  warnings.warn(\n"
     ]
    },
    {
     "name": "stdout",
     "output_type": "stream",
     "text": [
      "              precision    recall  f1-score   support\n",
      "\n",
      "           0       0.16      0.21      0.18       196\n",
      "           1       0.14      0.13      0.13       226\n",
      "           2       0.11      0.08      0.09       206\n",
      "\n",
      "    accuracy                           0.14       628\n",
      "   macro avg       0.13      0.14      0.14       628\n",
      "weighted avg       0.13      0.14      0.13       628\n",
      "\n"
     ]
    }
   ],
   "source": [
    "import pandas as pd\n",
    "from sklearn.model_selection import train_test_split\n",
    "from sklearn.neural_network import MLPClassifier\n",
    "from sklearn.metrics import classification_report\n",
    "from sklearn.preprocessing import LabelEncoder, OneHotEncoder\n",
    "\n",
    "# Load the medals dataset\n",
    "# df=pd.read_csv('medals.csv')\n",
    "\n",
    "# Select relevant features and target variable\n",
    "features=['discipline_title', 'event_gender', 'participant_type']\n",
    "target='medal_type'\n",
    "\n",
    "# Convert categorical variables to numerical using LabelEncoder and OneHotEncoder\n",
    "encoder=LabelEncoder()\n",
    "df_encoded=df[features].apply(encoder.fit_transform)\n",
    "onehot_encoder=OneHotEncoder(sparse=False)\n",
    "df_encoded=pd.DataFrame(onehot_encoder.fit_transform(df_encoded),columns=onehot_encoder.get_feature_names_out(features))\n",
    "\n",
    "# Split the dataset into training and testing sets\n",
    "X_train,X_test,y_train,y_test=train_test_split(df_encoded, df[target],test_size=0.2,random_state=42)\n",
    "\n",
    "# Initialize and train the MLP classifier\n",
    "clf=MLPClassifier(hidden_layer_sizes=(100, 100),random_state=42)  # Customize the hidden_layer_sizes as needed\n",
    "clf.fit(X_train,y_train)\n",
    "\n",
    "# Predict on the test set\n",
    "y_pred=clf.predict(X_test)\n",
    "\n",
    "# Evaluate the model\n",
    "# print(classification_report(y_test,y_pred))"
   ]
  },
  {
   "cell_type": "markdown",
   "metadata": {
    "id": "muj9hpDYjG4q"
   },
   "source": [
    "### USING RECURRENT NUERAL NETWORKS"
   ]
  },
  {
   "cell_type": "code",
   "execution_count": 29,
   "metadata": {
    "colab": {
     "base_uri": "https://localhost:8080/"
    },
    "id": "X7h0oL79jU5o",
    "outputId": "3ff32115-034d-4776-a3f9-7d8b01b9c9f1"
   },
   "outputs": [
    {
     "name": "stderr",
     "output_type": "stream",
     "text": [
      "C:\\Users\\vishal\\AppData\\Local\\Temp\\ipykernel_12884\\3374610030.py:19: SettingWithCopyWarning: \n",
      "A value is trying to be set on a copy of a slice from a DataFrame.\n",
      "Try using .loc[row_indexer,col_indexer] = value instead\n",
      "\n",
      "See the caveats in the documentation: https://pandas.pydata.org/pandas-docs/stable/user_guide/indexing.html#returning-a-view-versus-a-copy\n",
      "  df[target]=encoder.fit_transform(df[target])\n"
     ]
    },
    {
     "name": "stdout",
     "output_type": "stream",
     "text": [
      "Epoch 1/10\n",
      "79/79 [==============================] - 6s 14ms/step - loss: 0.1508 - accuracy: 0.3292\n",
      "Epoch 2/10\n",
      "79/79 [==============================] - 1s 14ms/step - loss: 0.0281 - accuracy: 0.3284\n",
      "Epoch 3/10\n",
      "79/79 [==============================] - 1s 14ms/step - loss: 0.0208 - accuracy: 0.3284\n",
      "Epoch 4/10\n",
      "79/79 [==============================] - 1s 14ms/step - loss: 0.0532 - accuracy: 0.3284\n",
      "Epoch 5/10\n",
      "79/79 [==============================] - 1s 14ms/step - loss: 0.0347 - accuracy: 0.3284\n",
      "Epoch 6/10\n",
      "79/79 [==============================] - 1s 14ms/step - loss: 0.0195 - accuracy: 0.3284\n",
      "Epoch 7/10\n",
      "79/79 [==============================] - 1s 15ms/step - loss: 0.0227 - accuracy: 0.3280\n",
      "Epoch 8/10\n",
      "79/79 [==============================] - 1s 15ms/step - loss: 0.0117 - accuracy: 0.3284\n",
      "Epoch 9/10\n",
      "79/79 [==============================] - 1s 13ms/step - loss: 0.0112 - accuracy: 0.3280\n",
      "Epoch 10/10\n",
      "79/79 [==============================] - 1s 13ms/step - loss: 0.0153 - accuracy: 0.3284\n",
      "20/20 [==============================] - 1s 7ms/step\n",
      "              precision    recall  f1-score   support\n",
      "\n",
      "           0       0.00      0.00      0.00       196\n",
      "           1       0.36      1.00      0.53       226\n",
      "           2       0.00      0.00      0.00       206\n",
      "\n",
      "    accuracy                           0.36       628\n",
      "   macro avg       0.12      0.33      0.18       628\n",
      "weighted avg       0.13      0.36      0.19       628\n",
      "\n"
     ]
    },
    {
     "name": "stderr",
     "output_type": "stream",
     "text": [
      "C:\\Users\\vishal\\AppData\\Local\\Programs\\Python\\Python310\\lib\\site-packages\\sklearn\\metrics\\_classification.py:1344: UndefinedMetricWarning: Precision and F-score are ill-defined and being set to 0.0 in labels with no predicted samples. Use `zero_division` parameter to control this behavior.\n",
      "  _warn_prf(average, modifier, msg_start, len(result))\n",
      "C:\\Users\\vishal\\AppData\\Local\\Programs\\Python\\Python310\\lib\\site-packages\\sklearn\\metrics\\_classification.py:1344: UndefinedMetricWarning: Precision and F-score are ill-defined and being set to 0.0 in labels with no predicted samples. Use `zero_division` parameter to control this behavior.\n",
      "  _warn_prf(average, modifier, msg_start, len(result))\n",
      "C:\\Users\\vishal\\AppData\\Local\\Programs\\Python\\Python310\\lib\\site-packages\\sklearn\\metrics\\_classification.py:1344: UndefinedMetricWarning: Precision and F-score are ill-defined and being set to 0.0 in labels with no predicted samples. Use `zero_division` parameter to control this behavior.\n",
      "  _warn_prf(average, modifier, msg_start, len(result))\n"
     ]
    }
   ],
   "source": [
    "import pandas as pd\n",
    "from sklearn.model_selection import train_test_split\n",
    "from keras.models import Sequential\n",
    "from keras.layers import LSTM, Dense, Embedding\n",
    "from keras.preprocessing.text import Tokenizer\n",
    "from tensorflow.keras.preprocessing.sequence import pad_sequences\n",
    "from sklearn.preprocessing import LabelEncoder\n",
    "from sklearn.metrics import classification_report\n",
    "\n",
    "# Load the medals dataset\n",
    "# df=pd.read_csv('medals.csv')\n",
    "\n",
    "# Select relevant features and target variable\n",
    "features=['discipline_title','event_gender','participant_type']\n",
    "target='medal_type'\n",
    "\n",
    "# Encode the target variable to numerical values\n",
    "encoder=LabelEncoder()\n",
    "df[target]=encoder.fit_transform(df[target])\n",
    "\n",
    "# Preprocess text data\n",
    "text_data=df['discipline_title']+' '+df['event_gender']+' '+ df['participant_type']\n",
    "\n",
    "# Tokenize the text data\n",
    "tokenizer=Tokenizer()\n",
    "tokenizer.fit_on_texts(text_data)\n",
    "sequences=tokenizer.texts_to_sequences(text_data)\n",
    "vocab_size=len(tokenizer.word_index) + 1\n",
    "\n",
    "# Pad sequences to have the same length\n",
    "max_length=max([len(seq) for seq in sequences])\n",
    "padded_sequences=pad_sequences(sequences,maxlen=max_length)\n",
    "\n",
    "# Split the dataset into training and testing sets\n",
    "X_train,X_test,y_train,y_test=train_test_split(padded_sequences,df[target],test_size=0.2,random_state=42)\n",
    "\n",
    "# Build the LSTM model\n",
    "model=Sequential()\n",
    "model.add(Embedding(vocab_size,100,input_length=max_length))\n",
    "model.add(LSTM(128))\n",
    "model.add(Dense(1, activation='sigmoid'))\n",
    "\n",
    "# Compile the model\n",
    "model.compile(loss='binary_crossentropy',optimizer='adam',metrics=['accuracy'])\n",
    "\n",
    "# Train the model\n",
    "model.fit(X_train,y_train,epochs=10,batch_size=32,verbose=1)\n",
    "\n",
    "# Evaluate the model\n",
    "y_pred_probs=model.predict(X_test)\n",
    "y_pred=[1 if prob >= 0.5 else 0 for prob in y_pred_probs]\n",
    "# print(classification_report(y_test,y_pred))"
   ]
  },
  {
   "cell_type": "code",
   "execution_count": 2,
   "metadata": {},
   "outputs": [
    {
     "name": "stdout",
     "output_type": "stream",
     "text": [
      "Epoch 1/10\n",
      "679/679 [==============================] - 93s 131ms/step - loss: 0.1130 - accuracy: 0.3278\n",
      "Epoch 2/10\n",
      "679/679 [==============================] - 90s 133ms/step - loss: 0.0835 - accuracy: 0.3276\n",
      "Epoch 3/10\n",
      "679/679 [==============================] - 91s 134ms/step - loss: 0.0967 - accuracy: 0.3278\n",
      "Epoch 4/10\n",
      "679/679 [==============================] - 83s 122ms/step - loss: 0.0809 - accuracy: 0.3276\n",
      "Epoch 5/10\n",
      "679/679 [==============================] - 75s 111ms/step - loss: 0.0759 - accuracy: 0.3276\n",
      "Epoch 6/10\n",
      "679/679 [==============================] - 81s 119ms/step - loss: 0.0687 - accuracy: 0.3276\n",
      "Epoch 7/10\n",
      "679/679 [==============================] - 79s 116ms/step - loss: 0.0649 - accuracy: 0.3276\n",
      "Epoch 8/10\n",
      "679/679 [==============================] - 79s 117ms/step - loss: 0.0647 - accuracy: 0.3276\n",
      "Epoch 9/10\n",
      "679/679 [==============================] - 78s 116ms/step - loss: 0.0617 - accuracy: 0.3276\n",
      "Epoch 10/10\n",
      "679/679 [==============================] - 85s 125ms/step - loss: 0.0619 - accuracy: 0.3276\n"
     ]
    },
    {
     "name": "stderr",
     "output_type": "stream",
     "text": [
      "C:\\Users\\vishal\\AppData\\Local\\Programs\\Python\\Python310\\lib\\site-packages\\keras\\src\\engine\\training.py:3000: UserWarning: You are saving your model as an HDF5 file via `model.save()`. This file format is considered legacy. We recommend using instead the native Keras format, e.g. `model.save('my_model.keras')`.\n",
      "  saving_api.save_model(\n"
     ]
    }
   ],
   "source": [
    "import pickle\n",
    "import pandas as pd\n",
    "from keras.models import Sequential\n",
    "from keras.layers import LSTM, Dense, Embedding\n",
    "from keras.preprocessing.text import Tokenizer\n",
    "from keras.preprocessing.sequence import pad_sequences\n",
    "from sklearn.preprocessing import LabelEncoder\n",
    "\n",
    "# Assuming you have a labeled dataset in 'medals.csv'\n",
    "df = pd.read_csv('medals.csv')\n",
    "\n",
    "# Preprocess text data\n",
    "text_data = df['discipline_title'] + ' ' + df['event_gender'] + ' ' + df['participant_type']\n",
    "\n",
    "# Tokenize the text data\n",
    "tokenizer = Tokenizer()\n",
    "tokenizer.fit_on_texts(text_data)\n",
    "sequences = tokenizer.texts_to_sequences(text_data)\n",
    "vocab_size = len(tokenizer.word_index) + 1\n",
    "\n",
    "# Pad sequences to have the same length\n",
    "max_length = 100  # Specify the maximum sequence length\n",
    "padded_sequences = pad_sequences(sequences, maxlen=max_length)\n",
    "\n",
    "# Build the LSTM model\n",
    "model = Sequential()\n",
    "model.add(Embedding(vocab_size, 100, input_length=max_length))\n",
    "model.add(LSTM(128))\n",
    "model.add(Dense(1, activation='sigmoid'))\n",
    "\n",
    "# Compile the model\n",
    "model.compile(loss='binary_crossentropy', optimizer='adam', metrics=['accuracy'])\n",
    "\n",
    "# Label encode the target variable 'medal_type'\n",
    "label_encoder = LabelEncoder()\n",
    "df['medal_type_encoded'] = label_encoder.fit_transform(df['medal_type'])\n",
    "target = df['medal_type_encoded']\n",
    "\n",
    "# Train the model\n",
    "model.fit(padded_sequences, target, epochs=10, batch_size=32, verbose=1)\n",
    "\n",
    "# Save the model\n",
    "model.save('lstm_model.h5')\n",
    "\n",
    "# Save the tokenizer\n",
    "with open('tokenizer.pkl', 'wb') as tokenizer_file:\n",
    "    pickle.dump(tokenizer, tokenizer_file)\n"
   ]
  },
  {
   "cell_type": "code",
   "execution_count": null,
   "metadata": {},
   "outputs": [],
   "source": []
  }
 ],
 "metadata": {
  "colab": {
   "provenance": []
  },
  "kernelspec": {
   "display_name": "Python 3 (ipykernel)",
   "language": "python",
   "name": "python3"
  },
  "language_info": {
   "codemirror_mode": {
    "name": "ipython",
    "version": 3
   },
   "file_extension": ".py",
   "mimetype": "text/x-python",
   "name": "python",
   "nbconvert_exporter": "python",
   "pygments_lexer": "ipython3",
   "version": "3.10.7"
  }
 },
 "nbformat": 4,
 "nbformat_minor": 1
}
